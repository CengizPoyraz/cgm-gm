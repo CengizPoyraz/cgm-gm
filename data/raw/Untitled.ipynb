{
 "cells": [
  {
   "cell_type": "code",
   "execution_count": 1,
   "id": "8e86ba97-d756-4a5a-83f4-97733a1f0777",
   "metadata": {},
   "outputs": [],
   "source": [
    "t=([1,2],[3,4])"
   ]
  },
  {
   "cell_type": "code",
   "execution_count": 2,
   "id": "027aae42-7e79-478c-97bb-72b4d0d528ab",
   "metadata": {},
   "outputs": [],
   "source": [
    "t[0].append(5)"
   ]
  },
  {
   "cell_type": "code",
   "execution_count": 3,
   "id": "67b7f561-17d0-4df4-89ef-7eb99f3cacfc",
   "metadata": {},
   "outputs": [
    {
     "data": {
      "text/plain": [
       "([1, 2, 5], [3, 4])"
      ]
     },
     "execution_count": 3,
     "metadata": {},
     "output_type": "execute_result"
    }
   ],
   "source": [
    "t"
   ]
  },
  {
   "cell_type": "code",
   "execution_count": 4,
   "id": "7835d3c6-d15c-4eba-948b-6944d2ca8f53",
   "metadata": {},
   "outputs": [],
   "source": [
    "x=4"
   ]
  },
  {
   "cell_type": "code",
   "execution_count": 5,
   "id": "41cee94f-ffa0-4112-b7ef-e0478446c2d0",
   "metadata": {},
   "outputs": [],
   "source": [
    "y=15"
   ]
  },
  {
   "cell_type": "code",
   "execution_count": 12,
   "id": "a0667362-c2da-4a08-89f1-05c7cafdb956",
   "metadata": {},
   "outputs": [
    {
     "name": "stdout",
     "output_type": "stream",
     "text": [
      "x: 4, y: 15 x2: 7, y2: 11\n",
      "y3: 11\n",
      "x: 7, y: 11 x2: 10, y2: 16\n",
      "y3: 19\n",
      "x: 10, y: 19 x2: 13, y2: 15\n",
      "y3: 15\n",
      "x: 13, y: 15 x2: 16, y2: 20\n",
      "y3: 20\n",
      "x: 16, y: 20 x2: 19, y2: 16\n",
      "y3: 16\n",
      "x: 19, y: 16 x2: 22, y2: 21\n",
      "y3: 21\n",
      "x: 22, y: 21 x2: 25, y2: 17\n",
      "y3: 20\n",
      "x: 25, y: 20\n"
     ]
    }
   ],
   "source": [
    "x=4\n",
    "y=15\n",
    "while x < 24:\n",
    "    print(f\"x: {x}, y: {y} \", end='')\n",
    "    if x % 2 == 0:\n",
    "        y -=4\n",
    "    else:\n",
    "        y+=5\n",
    "    x+=3\n",
    "    print(f\"x2: {x}, y2: {y}\")\n",
    "    if y<=10:\n",
    "        break\n",
    "    if x % 5 == 0:\n",
    "        y+=3\n",
    "    print(f\"y3: {y}\")\n",
    "print(f\"x: {x}, y: {y}\")"
   ]
  },
  {
   "cell_type": "code",
   "execution_count": null,
   "id": "5fcf8694-3819-4326-8d7c-6275cc6bcc0c",
   "metadata": {},
   "outputs": [],
   "source": []
  },
  {
   "cell_type": "code",
   "execution_count": null,
   "id": "bd45edfa-3d93-4ecb-b1d8-f9667f50d705",
   "metadata": {},
   "outputs": [],
   "source": []
  }
 ],
 "metadata": {
  "kernelspec": {
   "display_name": "Python 3 (ipykernel)",
   "language": "python",
   "name": "python3"
  },
  "language_info": {
   "codemirror_mode": {
    "name": "ipython",
    "version": 3
   },
   "file_extension": ".py",
   "mimetype": "text/x-python",
   "name": "python",
   "nbconvert_exporter": "python",
   "pygments_lexer": "ipython3",
   "version": "3.8.10"
  }
 },
 "nbformat": 4,
 "nbformat_minor": 5
}
