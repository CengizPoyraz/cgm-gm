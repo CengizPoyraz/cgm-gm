{
 "cells": [
  {
   "cell_type": "code",
   "execution_count": 2,
   "id": "631b5438-3b37-41d2-a075-bb731436aaaf",
   "metadata": {},
   "outputs": [],
   "source": [
    "from obspy import read_events\n",
    "import pandas as pd\n",
    "from datetime import datetime"
   ]
  },
  {
   "cell_type": "code",
   "execution_count": 4,
   "id": "4d9279aa-00a9-4565-9029-3ab52d6506f4",
   "metadata": {},
   "outputs": [
    {
     "name": "stdout",
     "output_type": "stream",
     "text": [
      "Filtered CSV saved as filtered_phase_picks_feb_6_7.csv\n"
     ]
    }
   ],
   "source": [
    "file_path = \"/home/developer/Desktop/NOTEBOOK/GMS/cgm-gm/PhaseNet/phase_picks.txt\"\n",
    "\n",
    "catalog = read_events(file_path, format=\"GSE2\")\n",
    "\n",
    "rows = []\n",
    "for event in catalog:\n",
    "    eid = str(event.resource_id)\n",
    "\n",
    "    for origin in event.origins:\n",
    "        src_lat = origin.latitude\n",
    "        src_lon = origin.longitude \n",
    "        depth = origin.depth / 1000 if origin.depth else None \n",
    "        mag = event.magnitudes[0].mag if event.magnitudes else None  \n",
    "\n",
    "        pick_times = [pick.time for pick in event.picks if pick.time]\n",
    "        start_time = min(pick_times) if pick_times else None\n",
    "        end_time = max(pick_times) if pick_times else None\n",
    "\n",
    "        for pick in event.picks:\n",
    "            station_code = pick.waveform_id.station_code if pick.waveform_id else None\n",
    "\n",
    "            try:\n",
    "                sampling_frequency = pick.extra.get(\"sampling_frequency\", None)\n",
    "            except AttributeError:\n",
    "                sampling_frequency = 0\n",
    "\n",
    "            try:\n",
    "                num_time_steps = pick.extra.get(\"number_of_time_steps\", None)\n",
    "            except AttributeError:\n",
    "                num_time_steps = 0\n",
    "\n",
    "            try:\n",
    "                delta_t = pick.extra.get(\"delta_t\", None)\n",
    "            except AttributeError:\n",
    "                delta_t = 0\n",
    "\n",
    "            try:\n",
    "                min_frequency = pick.extra.get(\"min_frequency\", None)\n",
    "            except AttributeError:\n",
    "                min_frequency = 0\n",
    "\n",
    "            try:\n",
    "                max_frequency = pick.extra.get(\"max_frequency\", None)\n",
    "            except AttributeError:\n",
    "                max_frequency = 0\n",
    "\n",
    "            try:\n",
    "                num_frequency_steps = pick.extra.get(\"number_of_frequency_steps\", None)\n",
    "            except AttributeError:\n",
    "                num_frequency_steps = 0\n",
    "\n",
    "            rows.append({\n",
    "                \"eid\": eid,\n",
    "                \"src_lat\": src_lat,\n",
    "                \"src_lon\": src_lon,\n",
    "                \"stat_lat\": 0,\n",
    "                \"stat_lon\": 0,\n",
    "                \"depth\": depth,\n",
    "                \"mag\": mag,\n",
    "                \"station_code\": station_code,\n",
    "                \"start_time\": start_time.isoformat() if start_time else None,  \n",
    "                \"end_time\": end_time.isoformat() if end_time else None, \n",
    "                \"Sampling Frequency\": sampling_frequency,\n",
    "                \"Number of Time Steps\": num_time_steps,\n",
    "                \"Delta t\": delta_t,\n",
    "                \"Min Frequency\": min_frequency,\n",
    "                \"Max Frequency\": max_frequency,\n",
    "                \"Number of Frequency Steps\": num_frequency_steps,\n",
    "                \"rup\" : 0\n",
    "            })\n",
    "\n",
    "df = pd.DataFrame(rows)\n",
    "\n",
    "df[\"start_time\"] = pd.to_datetime(df[\"start_time\"], errors=\"coerce\")\n",
    "df[\"end_time\"] = pd.to_datetime(df[\"end_time\"], errors=\"coerce\")\n",
    "\n",
    "filter_start = datetime(2023, 2, 6)\n",
    "filter_end = datetime(2023, 2, 8)\n",
    "\n",
    "filtered_df = df[(df[\"start_time\"] >= filter_start) & (df[\"start_time\"] < filter_end)]\n",
    "\n",
    "\n",
    "output_csv = \"filtered_phase_picks_feb_6_7.csv\"\n",
    "filtered_df.to_csv(output_csv, index=False)\n",
    "\n",
    "print(f\"Filtered CSV saved as {output_csv}\")\n"
   ]
  },
  {
   "cell_type": "code",
   "execution_count": 5,
   "id": "e2ae9d80-2d2b-43ef-ad4f-bb6d124dfd47",
   "metadata": {},
   "outputs": [
    {
     "name": "stdout",
     "output_type": "stream",
     "text": [
      "/home/developer/Desktop/NOTEBOOK/GMS/cgm-gm/notebooks\n"
     ]
    }
   ],
   "source": [
    "!pwd"
   ]
  }
 ],
 "metadata": {
  "kernelspec": {
   "display_name": "Python 3 (ipykernel)",
   "language": "python",
   "name": "python3"
  },
  "language_info": {
   "codemirror_mode": {
    "name": "ipython",
    "version": 3
   },
   "file_extension": ".py",
   "mimetype": "text/x-python",
   "name": "python",
   "nbconvert_exporter": "python",
   "pygments_lexer": "ipython3",
   "version": "3.8.10"
  }
 },
 "nbformat": 4,
 "nbformat_minor": 5
}
